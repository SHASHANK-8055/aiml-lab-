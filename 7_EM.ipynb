{
 "cells": [
  {
   "cell_type": "code",
   "execution_count": null,
   "id": "f5e0af9b",
   "metadata": {},
   "outputs": [],
   "source": [
    "import numpy as np \n",
    "import pandas as pd\n",
    "from matplotlib import pyplot as plt\n",
    "from sklearn.mixture import GaussianMixture \n",
    "from sklearn.cluster import KMeans\n",
    "data=pd.read_csv('data/ex.csv') \n",
    "f1 = data['V1'].values\n",
    "f2 = data['V2'].values\n",
    "X=np.array(list(zip(f1,f2))) \n",
    "print(\"x: \", X)\n",
    "print('Graphforwholedataset')\n",
    "plt.scatter(f1,f2,c='black')\n",
    "kmeans= KMeans(2)\n",
    "labels=kmeans.fit(X).predict(X) \n",
    "print(\"labelsforkmeans:\",labels)\n",
    "print('GraphusingKmeansAlgorithm') \n",
    "plt.scatter(f1, f2, c=labels)\n",
    "centroids=kmeans.cluster_centers_ \n",
    "print(\"centroids:\", centroids)\n",
    "plt.scatter(centroids[:,0],centroids[:,1],marker='*',c='red') \n",
    "plt.show()\n",
    "gmm = GaussianMixture(2) \n",
    "labels = gmm.fit(X).predict(X) \n",
    "print(\"LabelsforGMM:\",labels)\n",
    "print('GraphusingEMAlgorithm') \n",
    "plt.scatter(f1, f2, c=labels) \n",
    "plt.show()"
   ]
  }
 ],
 "metadata": {
  "kernelspec": {
   "display_name": "Python 3 (ipykernel)",
   "language": "python",
   "name": "python3"
  },
  "language_info": {
   "codemirror_mode": {
    "name": "ipython",
    "version": 3
   },
   "file_extension": ".py",
   "mimetype": "text/x-python",
   "name": "python",
   "nbconvert_exporter": "python",
   "pygments_lexer": "ipython3",
   "version": "3.9.7"
  }
 },
 "nbformat": 4,
 "nbformat_minor": 5
}
