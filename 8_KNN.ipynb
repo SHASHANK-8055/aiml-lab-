{
 "cells": [
  {
   "cell_type": "code",
   "execution_count": null,
   "id": "f5e0af9b",
   "metadata": {},
   "outputs": [],
   "source": [
    "from sklearn.datasets import load_iris\n",
    "from sklearn.neighbors import KNeighborsClassifier \n",
    "import numpy as np\n",
    "from sklearn.model_selection import train_test_split\n",
    "iris_dataset=load_iris()\n",
    "targets=iris_dataset.target_names\n",
    "print(\"Class : number\")\n",
    "for i in range(len(targets)):\n",
    "    print(targets[i],':',i)\n",
    "    X_train,X_test,y_train,y_test=train_test_split(iris_dataset[\"data\"],iris_dataset[\"target\"]) \n",
    "    kn = KNeighborsClassifier(1)\n",
    "    kn.fit(X_train,y_train)\n",
    "    for i in range(len(X_test)):\n",
    "        x_new = np.array([X_test[i]]) \n",
    "        prediction=kn.predict(x_new)\n",
    "        print(\"Actual:[{0}][{1}],Predicted:{2}{3}\".format(y_test[i],targets[y_test[i]],prediction, targets[prediction]))\n",
    "        print(\"\\nAccuracy:\",kn.score(X_test,y_test))"
   ]
  }
 ],
 "metadata": {
  "kernelspec": {
   "display_name": "Python 3 (ipykernel)",
   "language": "python",
   "name": "python3"
  },
  "language_info": {
   "codemirror_mode": {
    "name": "ipython",
    "version": 3
   },
   "file_extension": ".py",
   "mimetype": "text/x-python",
   "name": "python",
   "nbconvert_exporter": "python",
   "pygments_lexer": "ipython3",
   "version": "3.9.7"
  }
 },
 "nbformat": 4,
 "nbformat_minor": 5
}
